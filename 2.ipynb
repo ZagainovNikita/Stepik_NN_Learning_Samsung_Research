{
 "cells": [
  {
   "cell_type": "code",
   "execution_count": 1,
   "id": "01f5a134",
   "metadata": {},
   "outputs": [],
   "source": [
    "import numpy as np\n",
    "import pandas as pd\n",
    "import torch \n",
    "import matplotlib.pyplot as plt\n",
    "import seaborn as sns\n",
    "import math as m\n",
    "import sympy as sp"
   ]
  },
  {
   "cell_type": "code",
   "execution_count": 2,
   "id": "59821581",
   "metadata": {},
   "outputs": [],
   "source": [
    "x = torch.tensor([[ 1.,  2.,  3.,  4.],\n",
    "        [ 5.,  6.,  7.,  8.],\n",
    "        [ 9., 10., 11., 12.]])"
   ]
  },
  {
   "cell_type": "code",
   "execution_count": 3,
   "id": "81ee516f",
   "metadata": {},
   "outputs": [],
   "source": [
    "x.requires_grad = True"
   ]
  },
  {
   "cell_type": "code",
   "execution_count": 4,
   "id": "323e6435",
   "metadata": {},
   "outputs": [
    {
     "data": {
      "text/plain": [
       "tensor([[ 1.,  2.,  3.,  4.],\n",
       "        [ 5.,  6.,  7.,  8.],\n",
       "        [ 9., 10., 11., 12.]], requires_grad=True)"
      ]
     },
     "execution_count": 4,
     "metadata": {},
     "output_type": "execute_result"
    }
   ],
   "source": [
    "x"
   ]
  },
  {
   "cell_type": "code",
   "execution_count": 5,
   "id": "575b9ab7",
   "metadata": {},
   "outputs": [],
   "source": [
    "func = 10*(x**2).sum()"
   ]
  },
  {
   "cell_type": "code",
   "execution_count": 6,
   "id": "5b68546c",
   "metadata": {},
   "outputs": [],
   "source": [
    "func.backward()"
   ]
  },
  {
   "cell_type": "code",
   "execution_count": 7,
   "id": "bdb72771",
   "metadata": {},
   "outputs": [
    {
     "data": {
      "text/plain": [
       "tensor(6500., grad_fn=<MulBackward0>)"
      ]
     },
     "execution_count": 7,
     "metadata": {},
     "output_type": "execute_result"
    }
   ],
   "source": [
    "func"
   ]
  },
  {
   "cell_type": "code",
   "execution_count": 8,
   "id": "8801da6b",
   "metadata": {},
   "outputs": [
    {
     "data": {
      "text/plain": [
       "tensor([[ 20.,  40.,  60.,  80.],\n",
       "        [100., 120., 140., 160.],\n",
       "        [180., 200., 220., 240.]])"
      ]
     },
     "execution_count": 8,
     "metadata": {},
     "output_type": "execute_result"
    }
   ],
   "source": [
    "x.grad"
   ]
  },
  {
   "cell_type": "code",
   "execution_count": 9,
   "id": "6cba492a",
   "metadata": {},
   "outputs": [
    {
     "data": {
      "text/plain": [
       "tensor(20., grad_fn=<MulBackward0>)"
      ]
     },
     "execution_count": 9,
     "metadata": {},
     "output_type": "execute_result"
    }
   ],
   "source": [
    "20*x[0,0]"
   ]
  },
  {
   "cell_type": "code",
   "execution_count": 10,
   "id": "3b998def",
   "metadata": {},
   "outputs": [],
   "source": [
    "x.data -= 0.001*x.grad"
   ]
  },
  {
   "cell_type": "code",
   "execution_count": 11,
   "id": "0f5e0c27",
   "metadata": {},
   "outputs": [
    {
     "data": {
      "text/plain": [
       "tensor([[ 0.9800,  1.9600,  2.9400,  3.9200],\n",
       "        [ 4.9000,  5.8800,  6.8600,  7.8400],\n",
       "        [ 8.8200,  9.8000, 10.7800, 11.7600]])"
      ]
     },
     "execution_count": 11,
     "metadata": {},
     "output_type": "execute_result"
    }
   ],
   "source": [
    "x.data"
   ]
  },
  {
   "cell_type": "code",
   "execution_count": 12,
   "id": "44cc9661",
   "metadata": {},
   "outputs": [
    {
     "data": {
      "text/plain": [
       "<function Tensor.zero_>"
      ]
     },
     "execution_count": 12,
     "metadata": {},
     "output_type": "execute_result"
    }
   ],
   "source": [
    "x.grad.zero_"
   ]
  },
  {
   "cell_type": "code",
   "execution_count": null,
   "id": "6d54b243",
   "metadata": {},
   "outputs": [],
   "source": []
  }
 ],
 "metadata": {
  "kernelspec": {
   "display_name": "Python 3 (ipykernel)",
   "language": "python",
   "name": "python3"
  },
  "language_info": {
   "codemirror_mode": {
    "name": "ipython",
    "version": 3
   },
   "file_extension": ".py",
   "mimetype": "text/x-python",
   "name": "python",
   "nbconvert_exporter": "python",
   "pygments_lexer": "ipython3",
   "version": "3.11.2"
  }
 },
 "nbformat": 4,
 "nbformat_minor": 5
}
