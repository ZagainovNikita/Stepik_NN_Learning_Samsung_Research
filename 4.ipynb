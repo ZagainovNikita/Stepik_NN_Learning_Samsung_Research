{
 "cells": [
  {
   "cell_type": "code",
   "execution_count": 1,
   "id": "dbd3040f",
   "metadata": {
    "executionInfo": {
     "elapsed": 5640,
     "status": "ok",
     "timestamp": 1690464281643,
     "user": {
      "displayName": "Никита Загайнов",
      "userId": "01143433774774517577"
     },
     "user_tz": -180
    },
    "id": "dbd3040f"
   },
   "outputs": [],
   "source": [
    "import numpy as np\n",
    "import pandas as pd\n",
    "import torch\n",
    "import matplotlib.pyplot as plt\n",
    "import seaborn as sns\n",
    "import random\n",
    "import math\n",
    "import time\n",
    "plt.rcParams['figure.figsize'] = (13.0, 5.0)"
   ]
  },
  {
   "cell_type": "markdown",
   "id": "f02132bb",
   "metadata": {
    "id": "f02132bb"
   },
   "source": [
    "# Testing optimizers"
   ]
  },
  {
   "cell_type": "code",
   "execution_count": null,
   "id": "d57904e4",
   "metadata": {
    "id": "d57904e4"
   },
   "outputs": [],
   "source": [
    "def func(x):\n",
    "    x1 = x[:,0]\n",
    "    x2 = x[:,1]\n",
    "    x3 = x[:,2]\n",
    "    return 12.5*x1+0.5*x2*12+2*x3\n",
    "x_train = torch.rand(10000,3)*50-25\n",
    "y_train = func(x_train)\n",
    "y_train = y_train.reshape(-1,1)"
   ]
  },
  {
   "cell_type": "code",
   "execution_count": null,
   "id": "92aabb5a",
   "metadata": {
    "id": "92aabb5a"
   },
   "outputs": [],
   "source": [
    "x_val = torch.rand(500,3)*50-25\n",
    "y_val = func(x_val)\n",
    "y_val = y_val.reshape(-1,1)"
   ]
  },
  {
   "cell_type": "code",
   "execution_count": null,
   "id": "aaf7d939",
   "metadata": {
    "id": "aaf7d939"
   },
   "outputs": [],
   "source": [
    "class Net(torch.nn.Module):\n",
    "    def __init__(self):\n",
    "        super().__init__()\n",
    "        self.fc1 = torch.nn.Linear(3,100)\n",
    "        self.fc2 = torch.nn.Linear(100,100)\n",
    "        self.fc3 = torch.nn.Linear(100,1)\n",
    "        self.act1 = torch.nn.Softmax(dim = 1)\n",
    "        self.act2 = torch.nn.Sigmoid()\n",
    "    def forward(self, x):\n",
    "        x = self.fc1(x)\n",
    "        x = self.act2(x)\n",
    "        x = self.fc2(x)\n",
    "        x = self.act2(x)\n",
    "        x = self.fc3(x)\n",
    "        return x\n",
    "net = Net()\n",
    "optimizer = torch.optim.Adam(params = net.parameters(), lr = 1e-3)\n",
    "\n",
    "loss = lambda x, y: (x**2-y**2).abs().mean()"
   ]
  },
  {
   "cell_type": "code",
   "execution_count": null,
   "id": "766bd882",
   "metadata": {
    "id": "766bd882"
   },
   "outputs": [],
   "source": [
    "for epoch in range(50001):\n",
    "    optimizer.zero_grad()\n",
    "    y_pred = net.forward(x_train)\n",
    "    loss_val = loss(y_pred, y_train)\n",
    "    loss_val.backward()\n",
    "    optimizer.step()\n",
    "    if epoch%50 == 0:\n",
    "        print(loss(net.forward(x_train), y_train).data,\n",
    "              loss(net.forward(x_val), y_val).data)"
   ]
  },
  {
   "cell_type": "markdown",
   "id": "22e18fe6",
   "metadata": {
    "id": "22e18fe6"
   },
   "source": [
    "# Number classification"
   ]
  },
  {
   "cell_type": "code",
   "execution_count": 2,
   "id": "266c2bdb",
   "metadata": {
    "executionInfo": {
     "elapsed": 561,
     "status": "ok",
     "timestamp": 1690464298597,
     "user": {
      "displayName": "Никита Загайнов",
      "userId": "01143433774774517577"
     },
     "user_tz": -180
    },
    "id": "266c2bdb"
   },
   "outputs": [],
   "source": [
    "random.seed(0)\n",
    "np.random.seed(0)\n",
    "torch.manual_seed(0)\n",
    "torch.cuda.manual_seed(0)\n",
    "torch.backends.cudnn.deterministic = True"
   ]
  },
  {
   "cell_type": "code",
   "execution_count": 3,
   "id": "4a1d209d",
   "metadata": {
    "colab": {
     "base_uri": "https://localhost:8080/"
    },
    "executionInfo": {
     "elapsed": 2028,
     "status": "ok",
     "timestamp": 1690464301151,
     "user": {
      "displayName": "Никита Загайнов",
      "userId": "01143433774774517577"
     },
     "user_tz": -180
    },
    "id": "4a1d209d",
    "outputId": "18c029c5-c921-495f-b0b6-d45705d15750"
   },
   "outputs": [],
   "source": [
    "import torchvision.datasets\n",
    "MNIST_train = torchvision.datasets.MNIST('./', download=True, train=True)\n",
    "MNIST_test = torchvision.datasets.MNIST('./', download=True, train=False)"
   ]
  },
  {
   "cell_type": "code",
   "execution_count": 14,
   "id": "f112afd1",
   "metadata": {
    "colab": {
     "base_uri": "https://localhost:8080/"
    },
    "executionInfo": {
     "elapsed": 28,
     "status": "ok",
     "timestamp": 1690464301155,
     "user": {
      "displayName": "Никита Загайнов",
      "userId": "01143433774774517577"
     },
     "user_tz": -180
    },
    "id": "f112afd1",
    "outputId": "e34c6aca-8784-4a30-99a8-e0b9a5c3c830",
    "scrolled": true
   },
   "outputs": [
    {
     "name": "stderr",
     "output_type": "stream",
     "text": [
      "C:\\Users\\Никита\\AppData\\Roaming\\Python\\Python311\\site-packages\\torchvision\\datasets\\mnist.py:75: UserWarning: train_data has been renamed data\n",
      "  warnings.warn(\"train_data has been renamed data\")\n",
      "C:\\Users\\Никита\\AppData\\Roaming\\Python\\Python311\\site-packages\\torchvision\\datasets\\mnist.py:65: UserWarning: train_labels has been renamed targets\n",
      "  warnings.warn(\"train_labels has been renamed targets\")\n",
      "C:\\Users\\Никита\\AppData\\Roaming\\Python\\Python311\\site-packages\\torchvision\\datasets\\mnist.py:80: UserWarning: test_data has been renamed data\n",
      "  warnings.warn(\"test_data has been renamed data\")\n",
      "C:\\Users\\Никита\\AppData\\Roaming\\Python\\Python311\\site-packages\\torchvision\\datasets\\mnist.py:70: UserWarning: test_labels has been renamed targets\n",
      "  warnings.warn(\"test_labels has been renamed targets\")\n"
     ]
    }
   ],
   "source": [
    "x_train = MNIST_train.train_data.float()\n",
    "y_train = MNIST_train.train_labels\n",
    "x_test = MNIST_test.test_data.float()\n",
    "y_test = MNIST_test.test_labels"
   ]
  },
  {
   "cell_type": "code",
   "execution_count": 21,
   "id": "32ebf1f0",
   "metadata": {
    "executionInfo": {
     "elapsed": 779,
     "status": "ok",
     "timestamp": 1690465298143,
     "user": {
      "displayName": "Никита Загайнов",
      "userId": "01143433774774517577"
     },
     "user_tz": -180
    },
    "id": "32ebf1f0"
   },
   "outputs": [],
   "source": [
    "x_train = x_train.reshape([-1,28**2])\n",
    "x_test = x_test.reshape([-1,28**2])"
   ]
  },
  {
   "cell_type": "code",
   "execution_count": 22,
   "id": "bc333fc2",
   "metadata": {
    "executionInfo": {
     "elapsed": 9,
     "status": "ok",
     "timestamp": 1690465298144,
     "user": {
      "displayName": "Никита Загайнов",
      "userId": "01143433774774517577"
     },
     "user_tz": -180
    },
    "id": "bc333fc2"
   },
   "outputs": [],
   "source": [
    "device = torch.device('cuda:0' if torch.cuda.is_available() else 'cpu')"
   ]
  },
  {
   "cell_type": "code",
   "execution_count": 23,
   "id": "6c8ddeea",
   "metadata": {
    "executionInfo": {
     "elapsed": 9,
     "status": "ok",
     "timestamp": 1690465298145,
     "user": {
      "displayName": "Никита Загайнов",
      "userId": "01143433774774517577"
     },
     "user_tz": -180
    },
    "id": "6c8ddeea"
   },
   "outputs": [],
   "source": [
    "class Numeric_net(torch.nn.Module):\n",
    "    def __init__(self, n):\n",
    "        super().__init__()\n",
    "        self.fc1 = torch.nn.Linear(28*28, n)\n",
    "        self.act1 = torch.nn.Sigmoid()\n",
    "        self.fc2 = torch.nn.Linear(n,10)\n",
    "    def forward(self, x):\n",
    "        x = self.fc1(x)\n",
    "        x = self.act1(x)\n",
    "        x = self.fc2(x)\n",
    "        return x"
   ]
  },
  {
   "cell_type": "code",
   "execution_count": 8,
   "id": "07cc6079",
   "metadata": {
    "executionInfo": {
     "elapsed": 9,
     "status": "ok",
     "timestamp": 1690465298757,
     "user": {
      "displayName": "Никита Загайнов",
      "userId": "01143433774774517577"
     },
     "user_tz": -180
    },
    "id": "07cc6079"
   },
   "outputs": [],
   "source": [
    "net = Numeric_net(100).to(device)\n",
    "optimizer = torch.optim.Adam(params = net.parameters(), lr = 1e-3)\n",
    "loss = torch.nn.CrossEntropyLoss()\n",
    "x_train = x_train.to(device)\n",
    "x_test = x_test.to(device)\n",
    "y_train = y_train.to(device)\n",
    "y_test = y_test.to(device)"
   ]
  },
  {
   "cell_type": "code",
   "execution_count": 29,
   "id": "7f242757",
   "metadata": {
    "colab": {
     "base_uri": "https://localhost:8080/",
     "height": 436
    },
    "executionInfo": {
     "elapsed": 11860,
     "status": "error",
     "timestamp": 1690466009813,
     "user": {
      "displayName": "Никита Загайнов",
      "userId": "01143433774774517577"
     },
     "user_tz": -180
    },
    "id": "7f242757",
    "outputId": "79daeaee-4be1-4506-ed91-f956fb5eee2b"
   },
   "outputs": [
    {
     "name": "stdout",
     "output_type": "stream",
     "text": [
      "epoch: 0; train ds: 0.9812833666801453; test ds: 0.9678999781608582\n",
      "epoch: 10; train ds: 0.9812833666801453; test ds: 0.9681999683380127\n"
     ]
    },
    {
     "ename": "KeyboardInterrupt",
     "evalue": "ignored",
     "output_type": "error",
     "traceback": [
      "\u001b[0;31m---------------------------------------------------------------------------\u001b[0m",
      "\u001b[0;31mKeyboardInterrupt\u001b[0m                         Traceback (most recent call last)",
      "\u001b[0;32m<ipython-input-29-597c1fcff140>\u001b[0m in \u001b[0;36m<cell line: 5>\u001b[0;34m()\u001b[0m\n\u001b[1;32m     12\u001b[0m         \u001b[0my_batch_pred\u001b[0m \u001b[0;34m=\u001b[0m \u001b[0mnet\u001b[0m\u001b[0;34m.\u001b[0m\u001b[0mforward\u001b[0m\u001b[0;34m(\u001b[0m\u001b[0mx_batch\u001b[0m\u001b[0;34m)\u001b[0m\u001b[0;34m\u001b[0m\u001b[0;34m\u001b[0m\u001b[0m\n\u001b[1;32m     13\u001b[0m         \u001b[0mloss_val\u001b[0m \u001b[0;34m=\u001b[0m \u001b[0mloss\u001b[0m\u001b[0;34m(\u001b[0m\u001b[0my_batch_pred\u001b[0m\u001b[0;34m,\u001b[0m \u001b[0my_batch\u001b[0m\u001b[0;34m)\u001b[0m\u001b[0;34m\u001b[0m\u001b[0;34m\u001b[0m\u001b[0m\n\u001b[0;32m---> 14\u001b[0;31m         \u001b[0mloss_val\u001b[0m\u001b[0;34m.\u001b[0m\u001b[0mbackward\u001b[0m\u001b[0;34m(\u001b[0m\u001b[0;34m)\u001b[0m\u001b[0;34m\u001b[0m\u001b[0;34m\u001b[0m\u001b[0m\n\u001b[0m\u001b[1;32m     15\u001b[0m         \u001b[0moptimizer\u001b[0m\u001b[0;34m.\u001b[0m\u001b[0mstep\u001b[0m\u001b[0;34m(\u001b[0m\u001b[0;34m)\u001b[0m\u001b[0;34m\u001b[0m\u001b[0;34m\u001b[0m\u001b[0m\n\u001b[1;32m     16\u001b[0m     \u001b[0macc_train\u001b[0m \u001b[0;34m=\u001b[0m \u001b[0;34m(\u001b[0m\u001b[0my_train_pred\u001b[0m \u001b[0;34m==\u001b[0m \u001b[0my_train\u001b[0m\u001b[0;34m)\u001b[0m\u001b[0;34m.\u001b[0m\u001b[0mfloat\u001b[0m\u001b[0;34m(\u001b[0m\u001b[0;34m)\u001b[0m\u001b[0;34m.\u001b[0m\u001b[0mmean\u001b[0m\u001b[0;34m(\u001b[0m\u001b[0;34m)\u001b[0m\u001b[0;34m\u001b[0m\u001b[0;34m\u001b[0m\u001b[0m\n",
      "\u001b[0;32m/usr/local/lib/python3.10/dist-packages/torch/_tensor.py\u001b[0m in \u001b[0;36mbackward\u001b[0;34m(self, gradient, retain_graph, create_graph, inputs)\u001b[0m\n\u001b[1;32m    485\u001b[0m                 \u001b[0minputs\u001b[0m\u001b[0;34m=\u001b[0m\u001b[0minputs\u001b[0m\u001b[0;34m,\u001b[0m\u001b[0;34m\u001b[0m\u001b[0;34m\u001b[0m\u001b[0m\n\u001b[1;32m    486\u001b[0m             )\n\u001b[0;32m--> 487\u001b[0;31m         torch.autograd.backward(\n\u001b[0m\u001b[1;32m    488\u001b[0m             \u001b[0mself\u001b[0m\u001b[0;34m,\u001b[0m \u001b[0mgradient\u001b[0m\u001b[0;34m,\u001b[0m \u001b[0mretain_graph\u001b[0m\u001b[0;34m,\u001b[0m \u001b[0mcreate_graph\u001b[0m\u001b[0;34m,\u001b[0m \u001b[0minputs\u001b[0m\u001b[0;34m=\u001b[0m\u001b[0minputs\u001b[0m\u001b[0;34m\u001b[0m\u001b[0;34m\u001b[0m\u001b[0m\n\u001b[1;32m    489\u001b[0m         )\n",
      "\u001b[0;32m/usr/local/lib/python3.10/dist-packages/torch/autograd/__init__.py\u001b[0m in \u001b[0;36mbackward\u001b[0;34m(tensors, grad_tensors, retain_graph, create_graph, grad_variables, inputs)\u001b[0m\n\u001b[1;32m    198\u001b[0m     \u001b[0;31m# some Python versions print out the first line of a multi-line function\u001b[0m\u001b[0;34m\u001b[0m\u001b[0;34m\u001b[0m\u001b[0m\n\u001b[1;32m    199\u001b[0m     \u001b[0;31m# calls in the traceback and some print out the last line\u001b[0m\u001b[0;34m\u001b[0m\u001b[0;34m\u001b[0m\u001b[0m\n\u001b[0;32m--> 200\u001b[0;31m     Variable._execution_engine.run_backward(  # Calls into the C++ engine to run the backward pass\n\u001b[0m\u001b[1;32m    201\u001b[0m         \u001b[0mtensors\u001b[0m\u001b[0;34m,\u001b[0m \u001b[0mgrad_tensors_\u001b[0m\u001b[0;34m,\u001b[0m \u001b[0mretain_graph\u001b[0m\u001b[0;34m,\u001b[0m \u001b[0mcreate_graph\u001b[0m\u001b[0;34m,\u001b[0m \u001b[0minputs\u001b[0m\u001b[0;34m,\u001b[0m\u001b[0;34m\u001b[0m\u001b[0;34m\u001b[0m\u001b[0m\n\u001b[1;32m    202\u001b[0m         allow_unreachable=True, accumulate_grad=True)  # Calls into the C++ engine to run the backward pass\n",
      "\u001b[0;31mKeyboardInterrupt\u001b[0m: "
     ]
    }
   ],
   "source": [
    "batch_size = 100\n",
    "train_acc_history = []\n",
    "test_acc_history = []\n",
    "set_len = x_train.shape[0]\n",
    "for epoch in range(5001):\n",
    "    batch_order = np.random.permutation(x_train.shape[0])\n",
    "    for start_batch in range(0,x_train.shape[0],batch_size):\n",
    "        optimizer.zero_grad()\n",
    "        batch_inds = batch_order[start_batch:start_batch+batch_size]\n",
    "        x_batch = x_train[batch_inds].to(device)\n",
    "        y_batch = y_train[batch_inds].to(device)\n",
    "        y_batch_pred = net.forward(x_batch)\n",
    "        loss_val = loss(y_batch_pred, y_batch)\n",
    "        loss_val.backward()\n",
    "        optimizer.step()\n",
    "    acc_train = (y_train_pred == y_train).float().mean()\n",
    "    acc_test = (y_test_pred == y_test).float().mean()\n",
    "    if epoch%10 == 0:\n",
    "        y_train_pred = net.forward(x_train).argmax(dim=1)\n",
    "        y_test_pred = net.forward(x_test).argmax(dim=1)\n",
    "        print(f'epoch: {epoch}; train ds: {float(acc_train.data)}; test ds: {float(acc_test.data)}')\n",
    "    train_acc_history.append(acc_train.data.cpu())\n",
    "    test_acc_history.append(acc_test.data.cpu())"
   ]
  },
  {
   "cell_type": "code",
   "execution_count": 33,
   "id": "39053485",
   "metadata": {
    "colab": {
     "base_uri": "https://localhost:8080/",
     "height": 486
    },
    "executionInfo": {
     "elapsed": 439,
     "status": "ok",
     "timestamp": 1690466292809,
     "user": {
      "displayName": "Никита Загайнов",
      "userId": "01143433774774517577"
     },
     "user_tz": -180
    },
    "id": "39053485",
    "outputId": "0cee4dd8-d303-4aa7-94ad-48122c86aa93"
   },
   "outputs": [
    {
     "data": {
      "text/plain": [
       "(0.0, 10.0, 0.0, 1.0)"
      ]
     },
     "execution_count": 33,
     "metadata": {},
     "output_type": "execute_result"
    },
    {
     "data": {
      "image/png": "[encoded data removed]",
      "text/plain": [
       "<Figure size 1300x500 with 1 Axes>"
      ]
     },
     "metadata": {},
     "output_type": "display_data"
    }
   ],
   "source": [
    "plt.plot(train_acc_history, '-', c='red')\n",
    "plt.plot(test_acc_history, '-', c='blue')\n",
    "plt.title('accuracy during learning')\n",
    "plt.axis((0,10,0,1))"
   ]
  },
  {
   "cell_type": "code",
   "execution_count": null,
   "id": "f6696e62",
   "metadata": {
    "id": "f6696e62",
    "outputId": "862c5bdf-4f01-486a-f34b-1df6323b04ad"
   },
   "outputs": [
    {
     "data": {
      "text/plain": [
       "tensor([10., 11., 12.])"
      ]
     },
     "execution_count": 102,
     "metadata": {},
     "output_type": "execute_result"
    }
   ],
   "source": []
  },
  {
   "cell_type": "code",
   "execution_count": null,
   "id": "e35de77f",
   "metadata": {
    "id": "e35de77f"
   },
   "outputs": [],
   "source": []
  }
 ],
 "metadata": {
  "accelerator": "GPU",
  "colab": {
   "gpuType": "T4",
   "provenance": []
  },
  "kernelspec": {
   "display_name": "Python 3 (ipykernel)",
   "language": "python",
   "name": "python3"
  },
  "language_info": {
   "codemirror_mode": {
    "name": "ipython",
    "version": 3
   },
   "file_extension": ".py",
   "mimetype": "text/x-python",
   "name": "python",
   "nbconvert_exporter": "python",
   "pygments_lexer": "ipython3",
   "version": "3.11.2"
  }
 },
 "nbformat": 4,
 "nbformat_minor": 5
}
